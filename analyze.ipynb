{
 "cells": [
  {
   "cell_type": "code",
   "execution_count": 1,
   "id": "a20f0ca1",
   "metadata": {},
   "outputs": [
    {
     "name": "stderr",
     "output_type": "stream",
     "text": [
      "C:\\Users\\Sekigahara\\Anaconda3\\envs\\sekigahara\\lib\\site-packages\\numpy\\_distributor_init.py:30: UserWarning: loaded more than 1 DLL from .libs:\n",
      "C:\\Users\\Sekigahara\\Anaconda3\\envs\\sekigahara\\lib\\site-packages\\numpy\\.libs\\libopenblas.PYQHXLVVQ7VESDPUVUADXEVJOBGHJPAY.gfortran-win_amd64.dll\n",
      "C:\\Users\\Sekigahara\\Anaconda3\\envs\\sekigahara\\lib\\site-packages\\numpy\\.libs\\libopenblas.WCDJNK7YVMPZQ2ME2ZZHJJRJ3JIKNDB7.gfortran-win_amd64.dll\n",
      "  warnings.warn(\"loaded more than 1 DLL from .libs:\"\n"
     ]
    }
   ],
   "source": [
    "import pandas as pd\n",
    "import numpy as np"
   ]
  },
  {
   "cell_type": "code",
   "execution_count": 2,
   "id": "c99cce63",
   "metadata": {},
   "outputs": [
    {
     "data": {
      "text/html": [
       "<div>\n",
       "<style scoped>\n",
       "    .dataframe tbody tr th:only-of-type {\n",
       "        vertical-align: middle;\n",
       "    }\n",
       "\n",
       "    .dataframe tbody tr th {\n",
       "        vertical-align: top;\n",
       "    }\n",
       "\n",
       "    .dataframe thead th {\n",
       "        text-align: right;\n",
       "    }\n",
       "</style>\n",
       "<table border=\"1\" class=\"dataframe\">\n",
       "  <thead>\n",
       "    <tr style=\"text-align: right;\">\n",
       "      <th></th>\n",
       "      <th>Entity</th>\n",
       "      <th>Code</th>\n",
       "      <th>Year</th>\n",
       "      <th>Fruits - Excluding Wine - Food supply quantity (kg/capita/yr) (FAO, 2020)</th>\n",
       "    </tr>\n",
       "  </thead>\n",
       "  <tbody>\n",
       "    <tr>\n",
       "      <th>0</th>\n",
       "      <td>Afghanistan</td>\n",
       "      <td>AFG</td>\n",
       "      <td>1961</td>\n",
       "      <td>41.13</td>\n",
       "    </tr>\n",
       "    <tr>\n",
       "      <th>1</th>\n",
       "      <td>Afghanistan</td>\n",
       "      <td>AFG</td>\n",
       "      <td>1962</td>\n",
       "      <td>38.00</td>\n",
       "    </tr>\n",
       "    <tr>\n",
       "      <th>2</th>\n",
       "      <td>Afghanistan</td>\n",
       "      <td>AFG</td>\n",
       "      <td>1963</td>\n",
       "      <td>38.25</td>\n",
       "    </tr>\n",
       "    <tr>\n",
       "      <th>3</th>\n",
       "      <td>Afghanistan</td>\n",
       "      <td>AFG</td>\n",
       "      <td>1964</td>\n",
       "      <td>47.92</td>\n",
       "    </tr>\n",
       "    <tr>\n",
       "      <th>4</th>\n",
       "      <td>Afghanistan</td>\n",
       "      <td>AFG</td>\n",
       "      <td>1965</td>\n",
       "      <td>48.69</td>\n",
       "    </tr>\n",
       "    <tr>\n",
       "      <th>...</th>\n",
       "      <td>...</td>\n",
       "      <td>...</td>\n",
       "      <td>...</td>\n",
       "      <td>...</td>\n",
       "    </tr>\n",
       "    <tr>\n",
       "      <th>11023</th>\n",
       "      <td>Zimbabwe</td>\n",
       "      <td>ZWE</td>\n",
       "      <td>2013</td>\n",
       "      <td>15.32</td>\n",
       "    </tr>\n",
       "    <tr>\n",
       "      <th>11024</th>\n",
       "      <td>Zimbabwe</td>\n",
       "      <td>ZWE</td>\n",
       "      <td>2014</td>\n",
       "      <td>15.41</td>\n",
       "    </tr>\n",
       "    <tr>\n",
       "      <th>11025</th>\n",
       "      <td>Zimbabwe</td>\n",
       "      <td>ZWE</td>\n",
       "      <td>2015</td>\n",
       "      <td>15.44</td>\n",
       "    </tr>\n",
       "    <tr>\n",
       "      <th>11026</th>\n",
       "      <td>Zimbabwe</td>\n",
       "      <td>ZWE</td>\n",
       "      <td>2016</td>\n",
       "      <td>12.80</td>\n",
       "    </tr>\n",
       "    <tr>\n",
       "      <th>11027</th>\n",
       "      <td>Zimbabwe</td>\n",
       "      <td>ZWE</td>\n",
       "      <td>2017</td>\n",
       "      <td>14.87</td>\n",
       "    </tr>\n",
       "  </tbody>\n",
       "</table>\n",
       "<p>11028 rows × 4 columns</p>\n",
       "</div>"
      ],
      "text/plain": [
       "            Entity Code  Year  \\\n",
       "0      Afghanistan  AFG  1961   \n",
       "1      Afghanistan  AFG  1962   \n",
       "2      Afghanistan  AFG  1963   \n",
       "3      Afghanistan  AFG  1964   \n",
       "4      Afghanistan  AFG  1965   \n",
       "...            ...  ...   ...   \n",
       "11023     Zimbabwe  ZWE  2013   \n",
       "11024     Zimbabwe  ZWE  2014   \n",
       "11025     Zimbabwe  ZWE  2015   \n",
       "11026     Zimbabwe  ZWE  2016   \n",
       "11027     Zimbabwe  ZWE  2017   \n",
       "\n",
       "       Fruits - Excluding Wine - Food supply quantity (kg/capita/yr) (FAO, 2020)  \n",
       "0                                                  41.13                          \n",
       "1                                                  38.00                          \n",
       "2                                                  38.25                          \n",
       "3                                                  47.92                          \n",
       "4                                                  48.69                          \n",
       "...                                                  ...                          \n",
       "11023                                              15.32                          \n",
       "11024                                              15.41                          \n",
       "11025                                              15.44                          \n",
       "11026                                              12.80                          \n",
       "11027                                              14.87                          \n",
       "\n",
       "[11028 rows x 4 columns]"
      ]
     },
     "execution_count": 2,
     "metadata": {},
     "output_type": "execute_result"
    }
   ],
   "source": [
    "df = pd.read_csv('fruit-consumption-per-capita.csv')\n",
    "df"
   ]
  },
  {
   "cell_type": "code",
   "execution_count": 3,
   "id": "f99fc015",
   "metadata": {},
   "outputs": [],
   "source": [
    "list_comparison_sea = df.loc[df['Entity'].str.match('Indonesia') | \n",
    "                   df['Entity'].str.match('Malaysia') | \n",
    "                  df['Entity'].str.match('Thailand') |\n",
    "                df['Entity'].str.match('Vietnam') |\n",
    "                df['Entity'].str.match('Philippines')]"
   ]
  },
  {
   "cell_type": "code",
   "execution_count": 4,
   "id": "f83966f0",
   "metadata": {},
   "outputs": [
    {
     "data": {
      "text/html": [
       "<div>\n",
       "<style scoped>\n",
       "    .dataframe tbody tr th:only-of-type {\n",
       "        vertical-align: middle;\n",
       "    }\n",
       "\n",
       "    .dataframe tbody tr th {\n",
       "        vertical-align: top;\n",
       "    }\n",
       "\n",
       "    .dataframe thead th {\n",
       "        text-align: right;\n",
       "    }\n",
       "</style>\n",
       "<table border=\"1\" class=\"dataframe\">\n",
       "  <thead>\n",
       "    <tr style=\"text-align: right;\">\n",
       "      <th></th>\n",
       "      <th>Entity</th>\n",
       "      <th>Year</th>\n",
       "      <th>Fruits - Excluding Wine - Food supply quantity (kg/capita/yr) (FAO, 2020)</th>\n",
       "    </tr>\n",
       "  </thead>\n",
       "  <tbody>\n",
       "    <tr>\n",
       "      <th>4537</th>\n",
       "      <td>Indonesia</td>\n",
       "      <td>1961</td>\n",
       "      <td>22.65</td>\n",
       "    </tr>\n",
       "    <tr>\n",
       "      <th>4538</th>\n",
       "      <td>Indonesia</td>\n",
       "      <td>1962</td>\n",
       "      <td>22.14</td>\n",
       "    </tr>\n",
       "    <tr>\n",
       "      <th>4539</th>\n",
       "      <td>Indonesia</td>\n",
       "      <td>1963</td>\n",
       "      <td>23.09</td>\n",
       "    </tr>\n",
       "    <tr>\n",
       "      <th>4540</th>\n",
       "      <td>Indonesia</td>\n",
       "      <td>1964</td>\n",
       "      <td>22.66</td>\n",
       "    </tr>\n",
       "    <tr>\n",
       "      <th>4541</th>\n",
       "      <td>Indonesia</td>\n",
       "      <td>1965</td>\n",
       "      <td>23.58</td>\n",
       "    </tr>\n",
       "    <tr>\n",
       "      <th>...</th>\n",
       "      <td>...</td>\n",
       "      <td>...</td>\n",
       "      <td>...</td>\n",
       "    </tr>\n",
       "    <tr>\n",
       "      <th>10662</th>\n",
       "      <td>Vietnam</td>\n",
       "      <td>2013</td>\n",
       "      <td>68.06</td>\n",
       "    </tr>\n",
       "    <tr>\n",
       "      <th>10663</th>\n",
       "      <td>Vietnam</td>\n",
       "      <td>2014</td>\n",
       "      <td>75.72</td>\n",
       "    </tr>\n",
       "    <tr>\n",
       "      <th>10664</th>\n",
       "      <td>Vietnam</td>\n",
       "      <td>2015</td>\n",
       "      <td>72.84</td>\n",
       "    </tr>\n",
       "    <tr>\n",
       "      <th>10665</th>\n",
       "      <td>Vietnam</td>\n",
       "      <td>2016</td>\n",
       "      <td>75.04</td>\n",
       "    </tr>\n",
       "    <tr>\n",
       "      <th>10666</th>\n",
       "      <td>Vietnam</td>\n",
       "      <td>2017</td>\n",
       "      <td>84.23</td>\n",
       "    </tr>\n",
       "  </tbody>\n",
       "</table>\n",
       "<p>285 rows × 3 columns</p>\n",
       "</div>"
      ],
      "text/plain": [
       "          Entity  Year  \\\n",
       "4537   Indonesia  1961   \n",
       "4538   Indonesia  1962   \n",
       "4539   Indonesia  1963   \n",
       "4540   Indonesia  1964   \n",
       "4541   Indonesia  1965   \n",
       "...          ...   ...   \n",
       "10662    Vietnam  2013   \n",
       "10663    Vietnam  2014   \n",
       "10664    Vietnam  2015   \n",
       "10665    Vietnam  2016   \n",
       "10666    Vietnam  2017   \n",
       "\n",
       "       Fruits - Excluding Wine - Food supply quantity (kg/capita/yr) (FAO, 2020)  \n",
       "4537                                               22.65                          \n",
       "4538                                               22.14                          \n",
       "4539                                               23.09                          \n",
       "4540                                               22.66                          \n",
       "4541                                               23.58                          \n",
       "...                                                  ...                          \n",
       "10662                                              68.06                          \n",
       "10663                                              75.72                          \n",
       "10664                                              72.84                          \n",
       "10665                                              75.04                          \n",
       "10666                                              84.23                          \n",
       "\n",
       "[285 rows x 3 columns]"
      ]
     },
     "execution_count": 4,
     "metadata": {},
     "output_type": "execute_result"
    }
   ],
   "source": [
    "list_comparison_sea = list_comparison_sea.drop('Code', 1)\n",
    "list_comparison_sea"
   ]
  },
  {
   "cell_type": "code",
   "execution_count": 5,
   "id": "ad77f6f0",
   "metadata": {},
   "outputs": [
    {
     "data": {
      "text/plain": [
       "<AxesSubplot:xlabel='Year', ylabel='Fruits - Excluding Wine - Food supply quantity (kg/capita/yr) (FAO, 2020)'>"
      ]
     },
     "execution_count": 5,
     "metadata": {},
     "output_type": "execute_result"
    },
    {
     "data": {
      "image/png": "[encoded data removed]",
      "text/plain": [
       "<Figure size 432x288 with 1 Axes>"
      ]
     },
     "metadata": {
      "needs_background": "light"
     },
     "output_type": "display_data"
    }
   ],
   "source": [
    "import seaborn as sns\n",
    "\n",
    "sns.lineplot(data=list_comparison_sea, \n",
    "             x=\"Year\", \n",
    "             y=list_comparison_sea.columns[2], \n",
    "             hue=\"Entity\")"
   ]
  },
  {
   "cell_type": "code",
   "execution_count": 6,
   "id": "8dee2c12",
   "metadata": {},
   "outputs": [
    {
     "data": {
      "text/plain": [
       "array(['Indonesia', 'Malaysia', 'Philippines', 'Thailand', 'Vietnam'],\n",
       "      dtype=object)"
      ]
     },
     "execution_count": 6,
     "metadata": {},
     "output_type": "execute_result"
    }
   ],
   "source": [
    "list_country_sea = list_comparison_sea.reset_index()['Entity'].to_numpy()\n",
    "list_country_sea = np.unique(list_country_sea)\n",
    "list_country_sea"
   ]
  },
  {
   "cell_type": "code",
   "execution_count": 7,
   "id": "29549eac",
   "metadata": {},
   "outputs": [
    {
     "data": {
      "text/plain": [
       "array([1961, 1962, 1963, 1964, 1965, 1966, 1967, 1968, 1969, 1970, 1971,\n",
       "       1972, 1973, 1974, 1975, 1976, 1977, 1978, 1979, 1980, 1981, 1982,\n",
       "       1983, 1984, 1985, 1986, 1987, 1988, 1989, 1990, 1991, 1992, 1993,\n",
       "       1994, 1995, 1996, 1997, 1998, 1999, 2000, 2001, 2002, 2003, 2004,\n",
       "       2005, 2006, 2007, 2008, 2009, 2010, 2011, 2012, 2013, 2014, 2015,\n",
       "       2016, 2017], dtype=int64)"
      ]
     },
     "execution_count": 7,
     "metadata": {},
     "output_type": "execute_result"
    }
   ],
   "source": [
    "list_year_sea = list_comparison_sea.reset_index()['Year'].to_numpy()\n",
    "list_year_sea = np.unique(list_year_sea)\n",
    "list_year_sea"
   ]
  },
  {
   "cell_type": "code",
   "execution_count": 8,
   "id": "141cedec",
   "metadata": {},
   "outputs": [],
   "source": [
    "list_value_sea = list_comparison_sea[list_comparison_sea.columns[2]].to_numpy()"
   ]
  },
  {
   "cell_type": "code",
   "execution_count": 9,
   "id": "86d66bc7",
   "metadata": {},
   "outputs": [
    {
     "data": {
      "text/plain": [
       "array([ 22.65,  22.14,  23.09,  22.66,  23.58,  23.58,  23.25,  23.43,\n",
       "        24.24,  28.04,  26.65,  27.57,  29.87,  28.32,  26.06,  20.33,\n",
       "        24.85,  20.96,  23.97,  26.37,  27.7 ,  27.73,  26.43,  29.04,\n",
       "        26.67,  30.29,  28.5 ,  28.55,  26.02,  27.08,  28.13,  28.  ,\n",
       "        27.98,  31.88,  42.93,  34.45,  35.24,  31.14,  31.98,  36.12,\n",
       "        40.9 ,  47.43,  51.72,  58.13,  58.28,  62.54,  62.48,  65.21,\n",
       "        67.64,  57.18,  66.2 ,  66.81,  58.38,  60.19,  65.84,  59.64,\n",
       "        62.53,  58.67,  60.97,  57.66,  58.77,  59.26,  52.33,  52.05,\n",
       "        51.83,  58.09,  59.74,  60.9 ,  59.17,  54.58,  55.76,  54.02,\n",
       "        52.65,  53.89,  55.44,  58.85,  57.35,  54.06,  52.75,  55.31,\n",
       "        54.28,  53.91,  53.05,  52.09,  57.87,  56.96,  52.6 ,  50.61,\n",
       "        53.12,  52.78,  54.09,  54.36,  53.37,  54.55,  50.69,  52.36,\n",
       "        54.05,  55.81,  55.22,  54.91,  54.72,  53.24,  47.24,  45.65,\n",
       "        46.27,  44.07,  46.37,  46.68,  47.64,  45.29,  41.76,  44.06,\n",
       "        44.23,  44.94,  99.06,  95.83,  94.01,  90.49,  90.16,  88.77,\n",
       "        86.59,  82.22,  80.69,  80.31,  79.48,  70.67,  63.79,  67.58,\n",
       "        74.16,  80.57,  87.58, 100.6 , 104.92, 116.45, 112.85, 114.41,\n",
       "       112.84, 111.14, 107.43, 113.5 , 112.26, 107.49, 100.54, 114.32,\n",
       "       104.56, 111.7 , 103.8 , 104.67, 101.43, 115.87, 103.74,  95.2 ,\n",
       "        99.02,  91.05,  86.41,  96.84,  95.26,  95.46,  98.82,  90.51,\n",
       "       101.19, 108.26, 114.08, 115.75, 115.66, 110.46, 105.7 ,  99.34,\n",
       "       114.29, 110.65,  98.14,  68.59,  63.63,  65.37,  60.9 ,  72.79,\n",
       "        75.23,  71.58,  67.78,  66.9 ,  65.74,  66.05,  63.98,  69.77,\n",
       "        73.12,  90.  , 109.3 , 106.91, 105.52, 118.21, 122.73, 102.7 ,\n",
       "        91.4 ,  88.19,  86.93,  94.38,  93.58,  88.14,  87.08,  91.97,\n",
       "        83.65,  85.74,  88.52,  97.76,  96.39,  93.25,  90.72,  93.87,\n",
       "        91.94, 112.01, 130.2 , 125.19, 130.05, 123.24, 111.37, 116.2 ,\n",
       "       123.14, 134.57, 113.11, 107.23, 106.71, 106.44, 111.63, 103.12,\n",
       "        93.08,  89.06,  89.69,  92.39,  36.15,  35.43,  35.46,  35.15,\n",
       "        36.23,  35.69,  35.73,  35.84,  35.35,  34.94,  34.49,  34.23,\n",
       "        32.53,  32.73,  30.24,  30.2 ,  32.61,  34.52,  37.8 ,  42.28,\n",
       "        42.09,  43.47,  39.56,  41.74,  40.95,  43.94,  44.3 ,  43.16,\n",
       "        42.69,  42.21,  41.05,  43.4 ,  45.35,  45.63,  47.65,  49.88,\n",
       "        47.88,  48.32,  47.02,  51.65,  49.65,  53.42,  57.58,  61.48,\n",
       "        63.52,  62.42,  64.05,  65.86,  67.35,  68.05,  68.15,  68.36,\n",
       "        68.06,  75.72,  72.84,  75.04,  84.23])"
      ]
     },
     "execution_count": 9,
     "metadata": {},
     "output_type": "execute_result"
    }
   ],
   "source": [
    "list_value_sea"
   ]
  },
  {
   "cell_type": "code",
   "execution_count": 12,
   "id": "362c4c83",
   "metadata": {},
   "outputs": [],
   "source": [
    "mean_val_sea = []\n",
    "index_helper = 0\n",
    "for idx_c, country in enumerate(list_country_sea):\n",
    "    val = []\n",
    "    for idx_y, year in enumerate(list_year_sea):\n",
    "        val.append(list_value_sea[index_helper])\n",
    "        index_helper = index_helper + 1\n",
    "    mean_val_sea.append(np.mean(np.asarray(val)))"
   ]
  },
  {
   "cell_type": "code",
   "execution_count": 13,
   "id": "b612868b",
   "metadata": {},
   "outputs": [
    {
     "data": {
      "text/plain": [
       "array([36.99245614, 53.03403509, 98.74684211, 94.18842105, 47.63719298])"
      ]
     },
     "execution_count": 13,
     "metadata": {},
     "output_type": "execute_result"
    }
   ],
   "source": [
    "mean_val_sea = np.asarray(mean_val_sea)\n",
    "mean_val_sea"
   ]
  },
  {
   "cell_type": "code",
   "execution_count": 14,
   "id": "80cd27ba",
   "metadata": {},
   "outputs": [
    {
     "data": {
      "text/plain": [
       "Text(0.5, 1.0, 'Average Fruit Consumption each Country 1961-2017')"
      ]
     },
     "execution_count": 14,
     "metadata": {},
     "output_type": "execute_result"
    },
    {
     "data": {
      "image/png": "[encoded data removed]",
      "text/plain": [
       "<Figure size 432x288 with 1 Axes>"
      ]
     },
     "metadata": {
      "needs_background": "light"
     },
     "output_type": "display_data"
    }
   ],
   "source": [
    "sns.barplot(x=list_country_sea, y=mean_val_sea).set_title('Average Fruit Consumption each Country 1961-2017')"
   ]
  },
  {
   "cell_type": "markdown",
   "id": "1b88b6eb",
   "metadata": {},
   "source": [
    "<h1> Mid Asia </h1>"
   ]
  },
  {
   "cell_type": "code",
   "execution_count": null,
   "id": "ebebd609",
   "metadata": {},
   "outputs": [],
   "source": []
  }
 ],
 "metadata": {
  "kernelspec": {
   "display_name": "Python 3",
   "language": "python",
   "name": "python3"
  },
  "language_info": {
   "codemirror_mode": {
    "name": "ipython",
    "version": 3
   },
   "file_extension": ".py",
   "mimetype": "text/x-python",
   "name": "python",
   "nbconvert_exporter": "python",
   "pygments_lexer": "ipython3",
   "version": "3.8.8"
  }
 },
 "nbformat": 4,
 "nbformat_minor": 5
}
